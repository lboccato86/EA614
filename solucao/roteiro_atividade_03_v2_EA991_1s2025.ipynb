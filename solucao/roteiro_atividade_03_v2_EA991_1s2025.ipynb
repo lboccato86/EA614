{
  "nbformat": 4,
  "nbformat_minor": 0,
  "metadata": {
    "colab": {
      "provenance": [],
      "toc_visible": true,
      "include_colab_link": true
    },
    "kernelspec": {
      "name": "python3",
      "display_name": "Python 3"
    },
    "language_info": {
      "name": "python"
    }
  },
  "cells": [
    {
      "cell_type": "markdown",
      "metadata": {
        "id": "view-in-github",
        "colab_type": "text"
      },
      "source": [
        "<a href=\"https://colab.research.google.com/github/lboccato86/EA614/blob/master/solucao/roteiro_atividade_03_v2_EA991_1s2025.ipynb\" target=\"_parent\"><img src=\"https://colab.research.google.com/assets/colab-badge.svg\" alt=\"Open In Colab\"/></a>"
      ]
    },
    {
      "cell_type": "markdown",
      "source": [
        "# Atividade 03 - Regressão\n",
        "\n",
        "Nesta atividade, vamos aplicar um conjunto de modelos de regressão ao problema de prever o número de passageiros.\n",
        "\n",
        "Para isso, podemos utilizar o *dataset* disponível no Kaggle: https://www.kaggle.com/datasets/yasserh/air-passengers-forecast-dataset\n",
        "\n",
        "![](https://raw.githubusercontent.com/Masterx-AI/Project_Forecasting_Air_Passengers__/main/ap.jpg)\n",
        "\n",
        "Este *dataset* é formado por uma série temporal. O objetivo será o de utilizar o problema de regressão para realizar uma predição futura.\n",
        "\n",
        "Se desejar usar um dataset ainda mais desafiador, alternativamente, é possível utilizar o *dataset* do Kaggle: https://www.kaggle.com/datasets/yyxian/u-s-airline-traffic-data\n",
        "\n",
        "Esses dados usam valores de 2003 a 2023, sofrendo efeitos da pandemia, que podem ser mais difíceis de modelar. Nesse caso, é necessário fazer o download do *dataset* e ajustar o código a seguir, que carrega o primeiro *dataset*.\n"
      ],
      "metadata": {
        "id": "S4iWqVnOeOBI"
      }
    },
    {
      "cell_type": "code",
      "source": [
        "\"\"\" Importando os pacotes necessários \"\"\"\n",
        "\n",
        "import pandas as pd\n",
        "import numpy as np\n",
        "import matplotlib.pyplot as plt\n",
        "import seaborn as sns"
      ],
      "metadata": {
        "id": "_H4hlxUzYU3H"
      },
      "execution_count": null,
      "outputs": []
    },
    {
      "cell_type": "markdown",
      "source": [
        "## Preâmbulo: Carregando o *dataset* (arquivo .csv) para o Drive\n",
        "\n"
      ],
      "metadata": {
        "id": "VG8WVu0Li4rE"
      }
    },
    {
      "cell_type": "code",
      "execution_count": null,
      "metadata": {
        "id": "NqmMvOmceKyu"
      },
      "outputs": [],
      "source": [
        "\"\"\" Carregando o dataset do Github para trabalhar autonomamente no Colab \"\"\"\n",
        "\n",
        "import requests\n",
        "from pathlib import Path\n",
        "\n",
        "# Caminho para a pasta que conterá o dataset\n",
        "data_path = Path(\"data/\")\n",
        "\n",
        "# Se o diretório ainda não existe, criamos e baixamos o dataset\n",
        "if data_path.is_dir():\n",
        "    print(f\"O diretório {data_path} já existe\")\n",
        "else:\n",
        "    print(f\"Diretório {data_path} não localizado, criando um ...\")\n",
        "    data_path.mkdir(parents=True, exist_ok=True)\n",
        "\n",
        "    with open(data_path / \"airline-passengers.csv\", \"wb\") as f:\n",
        "        request = requests.get(\"https://github.com/EA991-Lab/utils/raw/main/data/airline-passengers.csv\")\n",
        "        print(\"Baixando os dados ...\")\n",
        "        f.write(request.content)"
      ]
    },
    {
      "cell_type": "markdown",
      "source": [
        "Com isso, o arquivo de dados estará disponível no Drive para uso através do caminho \"data/airline-passengers.csv\".\n"
      ],
      "metadata": {
        "id": "cbAZ5KjotIzk"
      }
    },
    {
      "cell_type": "markdown",
      "source": [
        "## Parte 1: Conhecendo o *dataset* e os detalhes do problema\n",
        "\n",
        "a) Faça uma breve descrição do *dataset*, apontando quantidade de amostras. Faça um plot da série temporal para visualizá-la.\n",
        "\n",
        "b) Como estamos lidando com uma série temporal e gostaríamos de realizar uma previsão de valores futuros, tanto as amostras de entrada X, quanto da saída Y fazem parte do \"mesmo atributo\". Nesse caso a divisão aleatória usual que separa treino e teste não pode ser aplicada. Devemos reservar apenas um trecho futuro para ser o teste, como ilustrado a seguir\n",
        "\n",
        "![](https://miro.medium.com/v2/resize:fit:828/format:webp/1*_wlOp86EnmpOd2k_kGbnNA.png)\n",
        "\n",
        "Com base nisso, faça a divisão de amostras em conjunto de treino e de teste. Se desejar, veja o pacote https://www.sktime.net/en/v0.19.2/api_reference/auto_generated/sktime.forecasting.model_selection.temporal_train_test_split.html\n",
        "\n",
        "c) Além disso, gostaríamos de utilizar um janelamento do dado de forma que, dado *n* valores passados, gostaríamos de prever o valor seguinte. Nesse sentido, as amostras devem ser organizadas conforme o exemplo a seguir:\n",
        "\n",
        "![](https://miro.medium.com/v2/resize:fit:828/format:webp/1*KsvjYITIbT1zxY6fdhi3Bg.png)\n",
        "\n",
        "O janelamento pode ser feito utilizando bibliotecas (veja por exemplo https://www.sktime.net/en/v0.20.0/api_reference/auto_generated/sktime.forecasting.model_selection.SlidingWindowSplitter.html) ou implementado a partir dos comandos básicos em Python. Atente-se apenas ao fato de que o tamanho da janela será um hiperparâmetro.\n",
        "\n",
        "Aplique o janelamento (janelas de tamanho *n*) no conjunto de treino e de teste.\n",
        "\n",
        "d) Se necessário, crie um conjunto de validação e normalize os dados."
      ],
      "metadata": {
        "id": "m4P7vBS0tV6z"
      }
    },
    {
      "cell_type": "markdown",
      "source": [
        "## Parte 2: Treinamento e avaliação da regressão linear\n",
        "\n",
        "e) Aplique os modelos:\n",
        "- Regressão Linear (https://scikit-learn.org/stable/modules/generated/sklearn.linear_model.LinearRegression.html)  \n",
        "- Ridge Regression variando alpha (https://scikit-learn.org/stable/modules/generated/sklearn.linear_model.Ridge.html)\n",
        "- Lasso Regression variando alpha (https://scikit-learn.org/stable/modules/generated/sklearn.linear_model.Lasso.html)\n",
        "- ElasticNet variando alpha e l1_ratio (https://scikit-learn.org/stable/modules/generated/sklearn.linear_model.ElasticNet.html)\n",
        "  \n",
        "  \n",
        "\n",
        "Selecione o modelo com os melhores hiperparâmetros e obtenha o desempenho no conjunto de teste em termos do MSE, RMSE e R². Comente qual foi o modelo com melhor desempenho.\n"
      ],
      "metadata": {
        "id": "pAtplEOnvRPj"
      }
    },
    {
      "cell_type": "markdown",
      "source": [
        "## Parte 3: Treinamento e avaliação do KNN\n",
        "\n",
        "https://scikit-learn.org/stable/modules/generated/sklearn.neighbors.KNeighborsRegressor.html\n",
        "\n",
        "f) Mostre em um gráfico a variação da mesma métrica de desempenho no conjunto de validação em função do número de vizinhos ($k$). Comente.\n",
        "\n",
        "g) Descreva sucintamente a metodologia empregada e apresente os resultados obtidos no conjunto de teste pela melhor configuração do modelo, incluindo: MSE, RMSE e R².\n"
      ],
      "metadata": {
        "id": "LmSrUbBdvtLE"
      }
    },
    {
      "cell_type": "markdown",
      "source": [
        "## Parte 4: Treinamento e avaliação da Árvore para Regressão\n",
        "\n",
        "https://scikit-learn.org/stable/modules/generated/sklearn.tree.DecisionTreeRegressor.html\n",
        "\n",
        "h) Mostre o desempenho no conjunto de validação variando o critério (*criterion*) e a profundidade máxima (*max_depth*). Comente.\n",
        "\n",
        "i) Descreva sucintamente a metodologia empregada e apresente os resultados obtidos no conjunto de teste pela melhor configuração do modelo, incluindo: MSE, RMSE e R².\n"
      ],
      "metadata": {
        "id": "F0m2U-lXS8rX"
      }
    },
    {
      "cell_type": "markdown",
      "source": [
        "## Parte 5: Treinamento e avaliação da SVR\n",
        "\n",
        "https://scikit-learn.org/stable/modules/generated/sklearn.svm.SVR.html\n",
        "\n",
        "g) Apresente uma curva de variação de uma métrica de desempenho nos dados de validação em função da largura da função *kernel* considerando a opção de *kernel* Gaussiano (ou `rbf`). Comente.\n",
        "\n",
        "h) Descreva sucintamente a metodologia empregada e apresente os resultados obtidos no conjunto de teste pela melhor configuração do modelo, incluindo: MSE, RMSE e R²."
      ],
      "metadata": {
        "id": "TyXfjOHxzD85"
      }
    },
    {
      "cell_type": "markdown",
      "source": [
        "## Parte 6: Alteração no Tamanho da Janela\n",
        "\n",
        "Use outro tamanho de janela e repita a análise dos modelos."
      ],
      "metadata": {
        "id": "2WKuhVUMhxZQ"
      }
    }
  ]
}